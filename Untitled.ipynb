{
 "cells": [
  {
   "cell_type": "markdown",
   "metadata": {},
   "source": [
    "# vimtutor\n",
    "\n",
    "### Moving The Cursor\n",
    "| command | explain |\n",
    "| ----- | ----- |\n",
    "| h | left |\n",
    "| j | down |\n",
    "| k | up |\n",
    "| l | right |\n",
    "|0 | move to the start of the line |\n",
    "\n",
    "### Exiting VIM\n",
    "\n",
    "| command | explain |\n",
    "| ----- | ----- |\n",
    "| ESC | make sure in normal mode |\n",
    "| :q! | exit |\n",
    "| :wq | save the changes and exit |\n",
    "\n",
    "### Text Editing\n",
    "| command | explain |\n",
    "| ----- | ----- |\n",
    "| x | delete the character |\n",
    "| i | into instertion mode |\n",
    "| Shift+a | append text in current line |\n",
    "\n",
    "### Deletion commands\n",
    "| command | explain |\n",
    "| ----- | ----- |\n",
    "| dw | delete a word |\n",
    "| de | delete the end of the current word |\n",
    "| d + Shift + 4| delete to the end of the line |\n",
    "| d + number + w/e | using a count for a motion |\n",
    "| dd | delete a whole line |\n",
    "| number + dd | delete the number of the next lines |\n",
    "\n",
    "### Undo Command\n",
    "| command | explain |\n",
    "| ----- | ----- |\n",
    "| u | undo the last commands |\n",
    "| Ctr+r | redo |\n",
    "| Shift+u | fix a whole line |\n",
    "| Ctr+f | page down |\n",
    "| Ctr+b | page up |\n",
    "| Shift+\\# | move to the previous location for current word focus |\n",
    "| Shift+\\* | move to the next location for current word focus |\n",
    "| Shift+\\( | move to the head of previous line |\n",
    "| Shift+\\) | move to the head of next line |\n",
    "| Shift+h | highest line in current page |\n",
    "| Shift+m | medium line in current page |\n",
    "| Shift+l | lowest line in current page |\n",
    "| Shift+g | lowest line in the file |"
   ]
  },
  {
   "cell_type": "code",
   "execution_count": null,
   "metadata": {
    "collapsed": true
   },
   "outputs": [],
   "source": []
  }
 ],
 "metadata": {
  "kernelspec": {
   "display_name": "Python 3",
   "language": "python",
   "name": "python3"
  },
  "language_info": {
   "codemirror_mode": {
    "name": "ipython",
    "version": 3
   },
   "file_extension": ".py",
   "mimetype": "text/x-python",
   "name": "python",
   "nbconvert_exporter": "python",
   "pygments_lexer": "ipython3",
   "version": "3.6.2"
  }
 },
 "nbformat": 4,
 "nbformat_minor": 2
}

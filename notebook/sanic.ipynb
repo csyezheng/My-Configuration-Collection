{
 "cells": [
  {
   "cell_type": "code",
   "execution_count": null,
   "metadata": {
    "collapsed": true
   },
   "outputs": [],
   "source": []
  },
  {
   "cell_type": "markdown",
   "metadata": {},
   "source": [
    "## Request Data\n",
    "request.<b>json</b> (any) <br>\n",
    "request.<b>args</b> (dict like {'key1': ['value1'], 'key2': ['value2']}) <br>\n",
    "request.<b>raw_args</b> (dict like {'key1': 'value1', 'key2': 'value2'}) <br>\n",
    "request.<b>url</b> <br>\n",
    "request.<b>path</b> like /posts/1/<br>\n",
    "request.<b>query_string</b> (foo=bar)<br>\n",
    "request.<b>form</b> (dict) <br>\n",
    "request.<b>body</b> (bytes)  retrieval of the request's raw data <br> \n",
    "request.<b>uri_template</b> (/post/:id) <br>\n",
    "request.<b>ip</b> <br>\n",
    "request.<b>host</b> <br>\n",
    "request.<b>files</b> (dict like {'filename': {'body': value, 'name': value2, 'type': value3})\n",
    "request.<b>app</b> <br>\n",
    "request.<b>scheme</b> (http or https)<br>\n"
   ]
  },
  {
   "cell_type": "markdown",
   "metadata": {
    "collapsed": true
   },
   "source": [
    "### Response\n",
    "from sanic import response\n",
    "response.text()\n",
    "response.html()\n",
    "response.json()\n",
    "response."
   ]
  }
 ],
 "metadata": {
  "kernelspec": {
   "display_name": "Python 3",
   "language": "python",
   "name": "python3"
  },
  "language_info": {
   "codemirror_mode": {
    "name": "ipython",
    "version": 3
   },
   "file_extension": ".py",
   "mimetype": "text/x-python",
   "name": "python",
   "nbconvert_exporter": "python",
   "pygments_lexer": "ipython3",
   "version": "3.6.1"
  }
 },
 "nbformat": 4,
 "nbformat_minor": 2
}

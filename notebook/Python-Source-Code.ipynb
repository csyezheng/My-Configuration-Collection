{
 "cells": [
  {
   "cell_type": "markdown",
   "metadata": {},
   "source": [
    "### python/cpython/Lib/ \n",
    "\n",
    "#### Basic\n",
    "* socket \n",
    "    * SocketServer\n",
    "    * SocketServer.{ForkingMixIn|ThreadingMixIn}\n",
    "* thread/threading\n",
    "* select \n",
    "    * select/{epoll|kqueue} \n",
    "* asyncore\n",
    "* asynchat\n",
    "\n",
    "#### Game or TCP/IP Application\n",
    "* greenlet\n",
    "* gevent\n",
    "\n",
    "#### Web or HTTP Application\n",
    "* BaseHTTPServer\n",
    "* SimpleHTTPServer \n",
    "* CGIHTTPServer\n",
    "* cgi/cgitb\n",
    "* cookielib\n",
    "* wsgiref\n",
    "* urllib"
   ]
  },
  {
   "cell_type": "markdown",
   "metadata": {},
   "source": [
    "* collections\n",
    "* itertools"
   ]
  },
  {
   "cell_type": "markdown",
   "metadata": {},
   "source": [
    "* 管理好项目的layout，把数据、模型、脚本还有日志，按照实验分开存在不同的目录，最好从一开始就要强制。另外.gitignore一定要有。\n",
    "* 不要贪图一时方便直接去代码里面hardcode参数，设置参数是脚本的事情，也有助于工程化。\n",
    "* 如果是Pycharm用户，请花时间设置remote server的depolyment mapping，会节省大量时间。\n",
    "\n"
   ]
  },
  {
   "cell_type": "markdown",
   "metadata": {},
   "source": [
    "#### Big data\n",
    "* Pig 提供可以支持Python定义的UDF\n",
    "* mrjob Yelp的mrjob可以使用python直接写MapReduce"
   ]
  },
  {
   "cell_type": "code",
   "execution_count": null,
   "metadata": {
    "collapsed": true
   },
   "outputs": [],
   "source": []
  }
 ],
 "metadata": {
  "kernelspec": {
   "display_name": "Python 3",
   "language": "python",
   "name": "python3"
  },
  "language_info": {
   "codemirror_mode": {
    "name": "ipython",
    "version": 3
   },
   "file_extension": ".py",
   "mimetype": "text/x-python",
   "name": "python",
   "nbconvert_exporter": "python",
   "pygments_lexer": "ipython3",
   "version": "3.6.1"
  }
 },
 "nbformat": 4,
 "nbformat_minor": 2
}

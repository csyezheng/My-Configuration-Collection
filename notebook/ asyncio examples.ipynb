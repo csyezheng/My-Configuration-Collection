{
 "cells": [
  {
   "cell_type": "markdown",
   "metadata": {},
   "source": [
    "## Event loop examples"
   ]
  },
  {
   "cell_type": "markdown",
   "metadata": {},
   "source": [
    "### Hello World with call_soon()"
   ]
  },
  {
   "cell_type": "code",
   "execution_count": 12,
   "metadata": {},
   "outputs": [
    {
     "name": "stdout",
     "output_type": "stream",
     "text": [
      "Hello World\n"
     ]
    }
   ],
   "source": [
    "import asyncio\n",
    "\n",
    "def hello_world(loop):\n",
    "    print('Hello World')\n",
    "    loop.stop()\n",
    "\n",
    "# loop = asyncio.get_event_loop()\n",
    "loop = asyncio.new_event_loop()\n",
    "asyncio.set_event_loop(loop)\n",
    "\n",
    "# Schedule a call to hello_world()\n",
    "loop.call_soon(hello_world, loop)\n",
    "\n",
    "# Blocking call interrupted by loop.stop()\n",
    "loop.run_forever()\n",
    "loop.close()"
   ]
  },
  {
   "cell_type": "markdown",
   "metadata": {},
   "source": [
    "### Display the current date with call_later()"
   ]
  },
  {
   "cell_type": "code",
   "execution_count": 13,
   "metadata": {},
   "outputs": [
    {
     "name": "stdout",
     "output_type": "stream",
     "text": [
      "2017-08-30 15:54:13.821101\n",
      "2017-08-30 15:54:14.824813\n",
      "2017-08-30 15:54:15.825540\n",
      "2017-08-30 15:54:16.825541\n",
      "2017-08-30 15:54:17.827409\n"
     ]
    }
   ],
   "source": [
    "import asyncio\n",
    "import datetime\n",
    "\n",
    "def display_date(end_time, loop):\n",
    "    print(datetime.datetime.now())\n",
    "    if (loop.time() + 1.0) < end_time:\n",
    "        loop.call_later(1, display_date, end_time, loop)\n",
    "    else:\n",
    "        loop.stop()\n",
    "\n",
    "# loop = asyncio.get_event_loop()\n",
    "loop = asyncio.new_event_loop()\n",
    "asyncio.set_event_loop(loop)\n",
    "\n",
    "# Schedule the first call to display_date()\n",
    "end_time = loop.time() + 5.0\n",
    "loop.call_soon(display_date, end_time, loop)\n",
    "\n",
    "# Blocking call interrupted by loop.stop()\n",
    "loop.run_forever()\n",
    "loop.close()"
   ]
  },
  {
   "cell_type": "markdown",
   "metadata": {},
   "source": [
    "### Watch a file descriptor for read events"
   ]
  },
  {
   "cell_type": "code",
   "execution_count": 15,
   "metadata": {},
   "outputs": [
    {
     "name": "stdout",
     "output_type": "stream",
     "text": [
      "Received: abc\n"
     ]
    }
   ],
   "source": [
    "import asyncio\n",
    "try:\n",
    "    from socket import socketpair\n",
    "except ImportError:\n",
    "    from asyncio.windows_utils import socketpair\n",
    "\n",
    "# Create a pair of connected file descriptors\n",
    "rsock, wsock = socketpair()\n",
    "# loop = asyncio.get_event_loop()\n",
    "loop = asyncio.new_event_loop()\n",
    "asyncio.set_event_loop(loop)\n",
    "\n",
    "def reader():\n",
    "    data = rsock.recv(100)\n",
    "    print(\"Received:\", data.decode())\n",
    "    # We are done: unregister the file descriptor\n",
    "    loop.remove_reader(rsock)\n",
    "    # Stop the event loop\n",
    "    loop.stop()\n",
    "\n",
    "# Register the file descriptor for read event\n",
    "loop.add_reader(rsock, reader)\n",
    "\n",
    "# Simulate the reception of data from the network\n",
    "loop.call_soon(wsock.send, 'abc'.encode())\n",
    "\n",
    "# Run the event loop\n",
    "loop.run_forever()\n",
    "\n",
    "# We are done, close sockets and the event loop\n",
    "rsock.close()\n",
    "wsock.close()\n",
    "loop.close()"
   ]
  },
  {
   "cell_type": "code",
   "execution_count": null,
   "metadata": {
    "collapsed": true
   },
   "outputs": [],
   "source": []
  }
 ],
 "metadata": {
  "kernelspec": {
   "display_name": "Python 3",
   "language": "python",
   "name": "python3"
  },
  "language_info": {
   "codemirror_mode": {
    "name": "ipython",
    "version": 3
   },
   "file_extension": ".py",
   "mimetype": "text/x-python",
   "name": "python",
   "nbconvert_exporter": "python",
   "pygments_lexer": "ipython3",
   "version": "3.6.1"
  }
 },
 "nbformat": 4,
 "nbformat_minor": 2
}

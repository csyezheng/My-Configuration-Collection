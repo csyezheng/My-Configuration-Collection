{
 "cells": [
  {
   "cell_type": "markdown",
   "metadata": {},
   "source": [
    "Open terminal | <b>$mod+Enter</b>\n",
    "\n",
    "Left | <b>$mod+j</b>\n",
    "\n",
    "Up| <b>$mod+k</b>\n",
    "\n",
    "Down | <b>$mod+l</b>\n",
    "\n",
    "Right | <b>$mod+semicolon</b>\n",
    "\n",
    "Using workspaces | <b>$mod+num</b>\n",
    "\n",
    "Moving windows to workspaces | <b>$mod+Shift+num</b>\n",
    "\n",
    "Closing windows | <b>Control+w or $mod+Shift+q</b> <br>\n",
    "\n",
    "Split in horizontal | <b>$mod+h</b>\n",
    "\n",
    "Split in vertical | <b>$mod+v</b>\n",
    "\n",
    "Fullscreen | <b>$mod+f</b>\n",
    "\n",
    "Floating | <b>$mod+Shift+space</b>\n",
    "\n",
    "Focus between tiling / floating | <b>$mod+space</b>\n",
    "\n",
    "Move left | <b>$mod+Shift+j</b>\n",
    "\n",
    "Move up| <b>$mod+Shift+k</b>\n",
    "\n",
    "Move down | <b>$mod+Shift+l</b>\n",
    "\n",
    "Move right | <b>$mod+Shift+semicolon</b>\n",
    "\n",
    "Layout stacking | <b>$mod+s</b>\n",
    "\n",
    "Layout tabbed | <b>$mod+w</b>\n",
    "\n",
    "Layout toggle split <b>$mod+e</b>\n",
    "\n",
    "Reload the configuration | <b>$mod+Shift+c</b>\n",
    "\n",
    "Restart ie | <b?$mod+Shift+r</b>\n",
    "\n",
    "Exit i3 | <b>$mod+Shift+e</b>"
   ]
  },
  {
   "cell_type": "code",
   "execution_count": null,
   "metadata": {
    "collapsed": true
   },
   "outputs": [],
   "source": []
  }
 ],
 "metadata": {
  "kernelspec": {
   "display_name": "Python 3",
   "language": "python",
   "name": "python3"
  },
  "language_info": {
   "codemirror_mode": {
    "name": "ipython",
    "version": 3
   },
   "file_extension": ".py",
   "mimetype": "text/x-python",
   "name": "python",
   "nbconvert_exporter": "python",
   "pygments_lexer": "ipython3",
   "version": "3.6.2"
  }
 },
 "nbformat": 4,
 "nbformat_minor": 2
}
